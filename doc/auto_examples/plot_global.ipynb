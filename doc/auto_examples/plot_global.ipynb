{
  "cells": [
    {
      "cell_type": "code",
      "execution_count": null,
      "metadata": {
        "collapsed": false
      },
      "outputs": [],
      "source": [
        "%matplotlib inline"
      ]
    },
    {
      "cell_type": "markdown",
      "metadata": {},
      "source": [
        "\n# Global ID example\n\n"
      ]
    },
    {
      "cell_type": "code",
      "execution_count": null,
      "metadata": {
        "collapsed": false
      },
      "outputs": [],
      "source": [
        "from skdim import global_id\nimport numpy as np\nfrom matplotlib import pyplot as plt\n\nX=np.random.random((1000,10))\n\nres = global_id.CorrInt().fit(X).dimension_\nres = global_id.DANCo().fit(X).dimension_\nres = global_id.KNN().fit(X).dimension_\nres = global_id.Mada().fit(X).dimension_\nres = global_id.MLE().fit(X).dimension_\nres = global_id.TwoNN().fit(X).dimension_"
      ]
    }
  ],
  "metadata": {
    "kernelspec": {
      "display_name": "Python 3",
      "language": "python",
      "name": "python3"
    },
    "language_info": {
      "codemirror_mode": {
        "name": "ipython",
        "version": 3
      },
      "file_extension": ".py",
      "mimetype": "text/x-python",
      "name": "python",
      "nbconvert_exporter": "python",
      "pygments_lexer": "ipython3",
      "version": "3.7.4"
    }
  },
  "nbformat": 4,
  "nbformat_minor": 0
}
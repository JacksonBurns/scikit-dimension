{
  "cells": [
    {
      "cell_type": "code",
      "execution_count": null,
      "metadata": {
        "collapsed": false
      },
      "outputs": [],
      "source": [
        "%matplotlib inline"
      ]
    },
    {
      "cell_type": "markdown",
      "metadata": {},
      "source": [
        "\n# Local ID example\n\n"
      ]
    },
    {
      "cell_type": "code",
      "execution_count": null,
      "metadata": {
        "collapsed": false
      },
      "outputs": [],
      "source": [
        "import skdim\nfrom skdim import local_id\nimport numpy as np\nfrom matplotlib import pyplot as plt\n\nX = np.random.random((1000,10))\n\n\n#one neighborhood\nres = local_id.ESS().fit(X)\nres = local_id.FisherS().fit(X)\nres = local_id.MOM().fit(X)\nres = local_id.MiND_ML().fit(X)\nres = local_id.TLE().fit(X)\nres = local_id.lPCA().fit(X)\n\n\n#all datapoint neighborhoods\npw_id = skdim.asPointwise(X,local_id.FisherS().fit,n_neighbors=100,n_jobs=1)"
      ]
    }
  ],
  "metadata": {
    "kernelspec": {
      "display_name": "Python 3",
      "language": "python",
      "name": "python3"
    },
    "language_info": {
      "codemirror_mode": {
        "name": "ipython",
        "version": 3
      },
      "file_extension": ".py",
      "mimetype": "text/x-python",
      "name": "python",
      "nbconvert_exporter": "python",
      "pygments_lexer": "ipython3",
      "version": "3.7.4"
    }
  },
  "nbformat": 4,
  "nbformat_minor": 0
}